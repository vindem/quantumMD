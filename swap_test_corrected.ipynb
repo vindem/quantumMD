{
 "cells": [
  {
   "cell_type": "code",
   "execution_count": 2,
   "metadata": {},
   "outputs": [],
   "source": [
    "import numpy as np \n"
   ]
  },
  {
   "cell_type": "code",
   "execution_count": 3,
   "metadata": {},
   "outputs": [
    {
     "name": "stdout",
     "output_type": "stream",
     "text": [
      "Requirement already satisfied: matplotlib in c:\\users\\sande\\appdata\\local\\packages\\pythonsoftwarefoundation.python.3.9_qbz5n2kfra8p0\\localcache\\local-packages\\python39\\site-packages (3.5.1)Note: you may need to restart the kernel to use updated packages.\n",
      "Requirement already satisfied: fonttools>=4.22.0 in c:\\users\\sande\\appdata\\local\\packages\\pythonsoftwarefoundation.python.3.9_qbz5n2kfra8p0\\localcache\\local-packages\\python39\\site-packages (from matplotlib) (4.33.3)\n",
      "Requirement already satisfied: pillow>=6.2.0 in c:\\users\\sande\\appdata\\local\\packages\\pythonsoftwarefoundation.python.3.9_qbz5n2kfra8p0\\localcache\\local-packages\\python39\\site-packages (from matplotlib) (9.1.0)\n",
      "Requirement already satisfied: python-dateutil>=2.7 in c:\\users\\sande\\appdata\\local\\packages\\pythonsoftwarefoundation.python.3.9_qbz5n2kfra8p0\\localcache\\local-packages\\python39\\site-packages (from matplotlib) (2.8.2)\n",
      "Requirement already satisfied: pyparsing>=2.2.1 in c:\\users\\sande\\appdata\\local\\packages\\pythonsoftwarefoundation.python.3.9_qbz5n2kfra8p0\\localcache\\local-packages\\python39\\site-packages (from matplotlib) (3.0.8)\n",
      "Requirement already satisfied: cycler>=0.10 in c:\\users\\sande\\appdata\\local\\packages\\pythonsoftwarefoundation.python.3.9_qbz5n2kfra8p0\\localcache\\local-packages\\python39\\site-packages (from matplotlib) (0.11.0)\n",
      "Requirement already satisfied: kiwisolver>=1.0.1 in c:\\users\\sande\\appdata\\local\\packages\\pythonsoftwarefoundation.python.3.9_qbz5n2kfra8p0\\localcache\\local-packages\\python39\\site-packages (from matplotlib) (1.4.2)\n",
      "Requirement already satisfied: packaging>=20.0 in c:\\users\\sande\\appdata\\local\\packages\\pythonsoftwarefoundation.python.3.9_qbz5n2kfra8p0\\localcache\\local-packages\\python39\\site-packages (from matplotlib) (21.3)\n",
      "Requirement already satisfied: numpy>=1.17 in c:\\users\\sande\\appdata\\local\\packages\\pythonsoftwarefoundation.python.3.9_qbz5n2kfra8p0\\localcache\\local-packages\\python39\\site-packages (from matplotlib) (1.22.3)\n",
      "Requirement already satisfied: six>=1.5 in c:\\users\\sande\\appdata\\local\\packages\\pythonsoftwarefoundation.python.3.9_qbz5n2kfra8p0\\localcache\\local-packages\\python39\\site-packages (from python-dateutil>=2.7->matplotlib) (1.16.0)\n",
      "\n"
     ]
    }
   ],
   "source": [
    "%pip install matplotlib"
   ]
  },
  {
   "cell_type": "code",
   "execution_count": 4,
   "metadata": {},
   "outputs": [],
   "source": [
    "import matplotlib.pyplot as plt\n",
    "%matplotlib inline"
   ]
  },
  {
   "cell_type": "code",
   "execution_count": 5,
   "metadata": {},
   "outputs": [
    {
     "name": "stdout",
     "output_type": "stream",
     "text": [
      "Requirement already satisfied: qiskit in c:\\users\\sande\\appdata\\local\\packages\\pythonsoftwarefoundation.python.3.9_qbz5n2kfra8p0\\localcache\\local-packages\\python39\\site-packages (0.36.1)\n",
      "Requirement already satisfied: qiskit-terra==0.20.1 in c:\\users\\sande\\appdata\\local\\packages\\pythonsoftwarefoundation.python.3.9_qbz5n2kfra8p0\\localcache\\local-packages\\python39\\site-packages (from qiskit) (0.20.1)\n",
      "Requirement already satisfied: qiskit-aer==0.10.4 in c:\\users\\sande\\appdata\\local\\packages\\pythonsoftwarefoundation.python.3.9_qbz5n2kfra8p0\\localcache\\local-packages\\python39\\site-packages (from qiskit) (0.10.4)\n",
      "Requirement already satisfied: qiskit-ibmq-provider==0.19.1 in c:\\users\\sande\\appdata\\local\\packages\\pythonsoftwarefoundation.python.3.9_qbz5n2kfra8p0\\localcache\\local-packages\\python39\\site-packages (from qiskit) (0.19.1)\n",
      "Requirement already satisfied: qiskit-ignis==0.7.0 in c:\\users\\sande\\appdata\\local\\packages\\pythonsoftwarefoundation.python.3.9_qbz5n2kfra8p0\\localcache\\local-packages\\python39\\site-packages (from qiskit) (0.7.0)\n",
      "Requirement already satisfied: numpy>=1.16.3 in c:\\users\\sande\\appdata\\local\\packages\\pythonsoftwarefoundation.python.3.9_qbz5n2kfra8p0\\localcache\\local-packages\\python39\\site-packages (from qiskit-aer==0.10.4->qiskit) (1.22.3)\n",
      "Requirement already satisfied: scipy>=1.0 in c:\\users\\sande\\appdata\\local\\packages\\pythonsoftwarefoundation.python.3.9_qbz5n2kfra8p0\\localcache\\local-packages\\python39\\site-packages (from qiskit-aer==0.10.4->qiskit) (1.8.0)\n",
      "Requirement already satisfied: requests-ntlm>=1.1.0 in c:\\users\\sande\\appdata\\local\\packages\\pythonsoftwarefoundation.python.3.9_qbz5n2kfra8p0\\localcache\\local-packages\\python39\\site-packages (from qiskit-ibmq-provider==0.19.1->qiskit) (1.1.0)\n",
      "Requirement already satisfied: python-dateutil>=2.8.0 in c:\\users\\sande\\appdata\\local\\packages\\pythonsoftwarefoundation.python.3.9_qbz5n2kfra8p0\\localcache\\local-packages\\python39\\site-packages (from qiskit-ibmq-provider==0.19.1->qiskit) (2.8.2)\n",
      "Requirement already satisfied: websockets>=10.0 in c:\\users\\sande\\appdata\\local\\packages\\pythonsoftwarefoundation.python.3.9_qbz5n2kfra8p0\\localcache\\local-packages\\python39\\site-packages (from qiskit-ibmq-provider==0.19.1->qiskit) (10.3)\n",
      "Requirement already satisfied: requests>=2.19 in c:\\users\\sande\\appdata\\local\\packages\\pythonsoftwarefoundation.python.3.9_qbz5n2kfra8p0\\localcache\\local-packages\\python39\\site-packages (from qiskit-ibmq-provider==0.19.1->qiskit) (2.27.1)\n",
      "Requirement already satisfied: urllib3>=1.21.1 in c:\\users\\sande\\appdata\\local\\packages\\pythonsoftwarefoundation.python.3.9_qbz5n2kfra8p0\\localcache\\local-packages\\python39\\site-packages (from qiskit-ibmq-provider==0.19.1->qiskit) (1.26.9)\n",
      "Requirement already satisfied: websocket-client>=1.0.1 in c:\\users\\sande\\appdata\\local\\packages\\pythonsoftwarefoundation.python.3.9_qbz5n2kfra8p0\\localcache\\local-packages\\python39\\site-packages (from qiskit-ibmq-provider==0.19.1->qiskit) (1.3.2)\n",
      "Requirement already satisfied: setuptools>=40.1.0 in c:\\program files\\windowsapps\\pythonsoftwarefoundation.python.3.9_3.9.3312.0_x64__qbz5n2kfra8p0\\lib\\site-packages (from qiskit-ignis==0.7.0->qiskit) (58.1.0)\n",
      "Requirement already satisfied: retworkx>=0.8.0 in c:\\users\\sande\\appdata\\local\\packages\\pythonsoftwarefoundation.python.3.9_qbz5n2kfra8p0\\localcache\\local-packages\\python39\\site-packages (from qiskit-ignis==0.7.0->qiskit) (0.11.0)\n",
      "Requirement already satisfied: tweedledum<2.0,>=1.1 in c:\\users\\sande\\appdata\\local\\packages\\pythonsoftwarefoundation.python.3.9_qbz5n2kfra8p0\\localcache\\local-packages\\python39\\site-packages (from qiskit-terra==0.20.1->qiskit) (1.1.1)\n",
      "Requirement already satisfied: python-constraint>=1.4 in c:\\users\\sande\\appdata\\local\\packages\\pythonsoftwarefoundation.python.3.9_qbz5n2kfra8p0\\localcache\\local-packages\\python39\\site-packages (from qiskit-terra==0.20.1->qiskit) (1.4.0)\n",
      "Requirement already satisfied: ply>=3.10 in c:\\users\\sande\\appdata\\local\\packages\\pythonsoftwarefoundation.python.3.9_qbz5n2kfra8p0\\localcache\\local-packages\\python39\\site-packages (from qiskit-terra==0.20.1->qiskit) (3.11)\n",
      "Requirement already satisfied: sympy>=1.3 in c:\\users\\sande\\appdata\\local\\packages\\pythonsoftwarefoundation.python.3.9_qbz5n2kfra8p0\\localcache\\local-packages\\python39\\site-packages (from qiskit-terra==0.20.1->qiskit) (1.10.1)\n",
      "Requirement already satisfied: dill>=0.3 in c:\\users\\sande\\appdata\\local\\packages\\pythonsoftwarefoundation.python.3.9_qbz5n2kfra8p0\\localcache\\local-packages\\python39\\site-packages (from qiskit-terra==0.20.1->qiskit) (0.3.4)\n",
      "Requirement already satisfied: stevedore>=3.0.0 in c:\\users\\sande\\appdata\\local\\packages\\pythonsoftwarefoundation.python.3.9_qbz5n2kfra8p0\\localcache\\local-packages\\python39\\site-packages (from qiskit-terra==0.20.1->qiskit) (3.5.0)\n",
      "Note: you may need to restart the kernel to use updated packages.Requirement already satisfied: psutil>=5 in c:\\users\\sande\\appdata\\local\\packages\\pythonsoftwarefoundation.python.3.9_qbz5n2kfra8p0\\localcache\\local-packages\\python39\\site-packages (from qiskit-terra==0.20.1->qiskit) (5.9.0)\n",
      "Requirement already satisfied: six>=1.5 in c:\\users\\sande\\appdata\\local\\packages\\pythonsoftwarefoundation.python.3.9_qbz5n2kfra8p0\\localcache\\local-packages\\python39\\site-packages (from python-dateutil>=2.8.0->qiskit-ibmq-provider==0.19.1->qiskit) (1.16.0)\n",
      "Requirement already satisfied: charset-normalizer~=2.0.0 in c:\\users\\sande\\appdata\\local\\packages\\pythonsoftwarefoundation.python.3.9_qbz5n2kfra8p0\\localcache\\local-packages\\python39\\site-packages (from requests>=2.19->qiskit-ibmq-provider==0.19.1->qiskit) (2.0.12)\n",
      "Requirement already satisfied: idna<4,>=2.5 in c:\\users\\sande\\appdata\\local\\packages\\pythonsoftwarefoundation.python.3.9_qbz5n2kfra8p0\\localcache\\local-packages\\python39\\site-packages (from requests>=2.19->qiskit-ibmq-provider==0.19.1->qiskit) (3.3)\n",
      "Requirement already satisfied: certifi>=2017.4.17 in c:\\users\\sande\\appdata\\local\\packages\\pythonsoftwarefoundation.python.3.9_qbz5n2kfra8p0\\localcache\\local-packages\\python39\\site-packages (from requests>=2.19->qiskit-ibmq-provider==0.19.1->qiskit) (2021.10.8)\n",
      "Requirement already satisfied: ntlm-auth>=1.0.2 in c:\\users\\sande\\appdata\\local\\packages\\pythonsoftwarefoundation.python.3.9_qbz5n2kfra8p0\\localcache\\local-packages\\python39\\site-packages (from requests-ntlm>=1.1.0->qiskit-ibmq-provider==0.19.1->qiskit) (1.5.0)\n",
      "Requirement already satisfied: cryptography>=1.3 in c:\\users\\sande\\appdata\\local\\packages\\pythonsoftwarefoundation.python.3.9_qbz5n2kfra8p0\\localcache\\local-packages\\python39\\site-packages (from requests-ntlm>=1.1.0->qiskit-ibmq-provider==0.19.1->qiskit) (37.0.1)\n",
      "Requirement already satisfied: pbr!=2.1.0,>=2.0.0 in c:\\users\\sande\\appdata\\local\\packages\\pythonsoftwarefoundation.python.3.9_qbz5n2kfra8p0\\localcache\\local-packages\\python39\\site-packages (from stevedore>=3.0.0->qiskit-terra==0.20.1->qiskit) (5.8.1)\n",
      "Requirement already satisfied: mpmath>=0.19 in c:\\users\\sande\\appdata\\local\\packages\\pythonsoftwarefoundation.python.3.9_qbz5n2kfra8p0\\localcache\\local-packages\\python39\\site-packages (from sympy>=1.3->qiskit-terra==0.20.1->qiskit) (1.2.1)\n",
      "Requirement already satisfied: cffi>=1.12 in c:\\users\\sande\\appdata\\local\\packages\\pythonsoftwarefoundation.python.3.9_qbz5n2kfra8p0\\localcache\\local-packages\\python39\\site-packages (from cryptography>=1.3->requests-ntlm>=1.1.0->qiskit-ibmq-provider==0.19.1->qiskit) (1.15.0)\n",
      "Requirement already satisfied: pycparser in c:\\users\\sande\\appdata\\local\\packages\\pythonsoftwarefoundation.python.3.9_qbz5n2kfra8p0\\localcache\\local-packages\\python39\\site-packages (from cffi>=1.12->cryptography>=1.3->requests-ntlm>=1.1.0->qiskit-ibmq-provider==0.19.1->qiskit) (2.21)\n",
      "\n"
     ]
    }
   ],
   "source": [
    "%pip install qiskit"
   ]
  },
  {
   "cell_type": "code",
   "execution_count": 6,
   "metadata": {},
   "outputs": [],
   "source": [
    "from qiskit import QuantumCircuit, ClassicalRegister, QuantumRegister\n",
    "from qiskit import Aer, execute, transpile\n",
    "from qiskit.tools.visualization import state_visualization\n",
    "from qiskit.tools.visualization import plot_bloch_multivector\n",
    "import random\n",
    "import math\n",
    "from scipy.optimize import minimize\n",
    "import numpy as np  \n",
    "import time "
   ]
  },
  {
   "cell_type": "code",
   "execution_count": 7,
   "metadata": {},
   "outputs": [
    {
     "name": "stdout",
     "output_type": "stream",
     "text": [
      "[0 1 2 3 4 5 6 7]\n",
      "[ 0.45705959 -0.29912752  0.38504192  0.32967921 -0.36994325  0.45068736\n",
      " -0.04848989  0.31991438]\n"
     ]
    }
   ],
   "source": [
    "# Trying to build a quantum circuit that gets the inner-product between two quantum states that encodes Tu's data\n",
    "\n",
    "x = np.arange(0,8,1)\n",
    "print(x)\n",
    "y = [random.uniform(-1,1) for p in range(8)]    # can add a kind of randomvariate white-noise here\n",
    "N = len(x)\n",
    "print(y/np.linalg.norm(y))"
   ]
  },
  {
   "cell_type": "code",
   "execution_count": 8,
   "metadata": {},
   "outputs": [
    {
     "name": "stdout",
     "output_type": "stream",
     "text": [
      "[0.         0.08451543 0.16903085 0.25354628 0.3380617  0.42257713\n",
      " 0.50709255 0.59160798] [ 0.45705959 -0.29912752  0.38504192  0.32967921 -0.36994325  0.45068736\n",
      " -0.04848989  0.31991438]\n"
     ]
    }
   ],
   "source": [
    "   \n",
    "no_of_qubits = np.ceil(np.log2(N))    # compute how many qubits needed to encode either x or y\n",
    "\n",
    "norm_x = np.linalg.norm(x)    # Normalize the vectors so that the quantum state vector is always on the unit sphere \n",
    "norm_y = np.linalg.norm(y)\n",
    "x = x/norm_x # normalise the data set x\n",
    "y = y/norm_y  # normalise the data set y \n",
    "print(x,y)\n"
   ]
  },
  {
   "cell_type": "code",
   "execution_count": 9,
   "metadata": {},
   "outputs": [
    {
     "data": {
      "text/plain": [
       "array([ 0.        ,  0.05976143,  0.11952286,  0.17928429,  0.23904572,\n",
       "        0.29880715,  0.35856858,  0.41833001,  0.32318994, -0.2115151 ,\n",
       "        0.27226575,  0.23311841, -0.26158938,  0.31868409, -0.03428753,\n",
       "        0.22621363])"
      ]
     },
     "execution_count": 9,
     "metadata": {},
     "output_type": "execute_result"
    }
   ],
   "source": [
    "circ = QuantumCircuit(no_of_qubits + 1,1)\n",
    "vec = np.concatenate((x,y))/np.sqrt(2)\n",
    "vec\n"
   ]
  },
  {
   "cell_type": "code",
   "execution_count": 10,
   "metadata": {},
   "outputs": [
    {
     "data": {
      "text/html": [
       "<pre style=\"word-wrap: normal;white-space: pre;background: #fff0;line-height: 1.1;font-family: &quot;Courier New&quot;,Courier,monospace\">     »\n",
       "q_0: »\n",
       "     »\n",
       "q_1: »\n",
       "     »\n",
       "q_2: »\n",
       "     »\n",
       "q_3: »\n",
       "     »\n",
       "c: 1/»\n",
       "     »\n",
       "«     ┌─────────────────────────────────────────────────────────────────────────────────────────────────────────────────────────────────────────────┐»\n",
       "«q_0: ┤0                                                                                                                                            ├»\n",
       "«     │                                                                                                                                             │»\n",
       "«q_1: ┤1                                                                                                                                            ├»\n",
       "«     │  Initialize(0,0.059761,0.11952,0.17928,0.23905,0.29881,0.35857,0.41833,0.32319,-0.21152,0.27227,0.23312,-0.26159,0.31868,-0.034288,0.22621) │»\n",
       "«q_2: ┤2                                                                                                                                            ├»\n",
       "«     │                                                                                                                                             │»\n",
       "«q_3: ┤3                                                                                                                                            ├»\n",
       "«     └─────────────────────────────────────────────────────────────────────────────────────────────────────────────────────────────────────────────┘»\n",
       "«c: 1/═══════════════════════════════════════════════════════════════════════════════════════════════════════════════════════════════════════════════»\n",
       "«                                                                                                                                                    »\n",
       "«             \n",
       "«q_0: ────────\n",
       "«             \n",
       "«q_1: ────────\n",
       "«             \n",
       "«q_2: ────────\n",
       "«     ┌───┐┌─┐\n",
       "«q_3: ┤ H ├┤M├\n",
       "«     └───┘└╥┘\n",
       "«c: 1/══════╩═\n",
       "«           0 </pre>"
      ],
      "text/plain": [
       "     »\n",
       "q_0: »\n",
       "     »\n",
       "q_1: »\n",
       "     »\n",
       "q_2: »\n",
       "     »\n",
       "q_3: »\n",
       "     »\n",
       "c: 1/»\n",
       "     »\n",
       "«     ┌─────────────────────────────────────────────────────────────────────────────────────────────────────────────────────────────────────────────┐»\n",
       "«q_0: ┤0                                                                                                                                            ├»\n",
       "«     │                                                                                                                                             │»\n",
       "«q_1: ┤1                                                                                                                                            ├»\n",
       "«     │  Initialize(0,0.059761,0.11952,0.17928,0.23905,0.29881,0.35857,0.41833,0.32319,-0.21152,0.27227,0.23312,-0.26159,0.31868,-0.034288,0.22621) │»\n",
       "«q_2: ┤2                                                                                                                                            ├»\n",
       "«     │                                                                                                                                             │»\n",
       "«q_3: ┤3                                                                                                                                            ├»\n",
       "«     └─────────────────────────────────────────────────────────────────────────────────────────────────────────────────────────────────────────────┘»\n",
       "«c: 1/═══════════════════════════════════════════════════════════════════════════════════════════════════════════════════════════════════════════════»\n",
       "«                                                                                                                                                    »\n",
       "«             \n",
       "«q_0: ────────\n",
       "«             \n",
       "«q_1: ────────\n",
       "«             \n",
       "«q_2: ────────\n",
       "«     ┌───┐┌─┐\n",
       "«q_3: ┤ H ├┤M├\n",
       "«     └───┘└╥┘\n",
       "«c: 1/══════╩═\n",
       "«           0 "
      ]
     },
     "execution_count": 10,
     "metadata": {},
     "output_type": "execute_result"
    }
   ],
   "source": [
    "circ.initialize(vec, range(math.ceil(no_of_qubits) + 1))  # Initializing the quantum states using the atom coordinates of Tu\n",
    "circ.h(math.ceil(no_of_qubits))                    # apply hadamard to bottom qubit\n",
    "circ.measure(math.ceil(no_of_qubits),0)            # measure bottom qubit in computational basis\n",
    "circ.draw()"
   ]
  },
  {
   "cell_type": "code",
   "execution_count": 11,
   "metadata": {},
   "outputs": [
    {
     "name": "stdout",
     "output_type": "stream",
     "text": [
      "Requirement already satisfied: pylatexenc in c:\\users\\sande\\appdata\\local\\packages\\pythonsoftwarefoundation.python.3.9_qbz5n2kfra8p0\\localcache\\local-packages\\python39\\site-packages (2.10)\n",
      "Note: you may need to restart the kernel to use updated packages.\n"
     ]
    }
   ],
   "source": [
    "%pip install pylatexenc"
   ]
  },
  {
   "cell_type": "code",
   "execution_count": 12,
   "metadata": {},
   "outputs": [],
   "source": [
    "\n",
    "def inner_prod(vec1, vec2):\n",
    "    #first check lengths are equal\n",
    "    if len(vec1) != len(vec2):\n",
    "        raise ValueError('Lengths of states are not equal')\n",
    "        \n",
    "    circ = QuantumCircuit(no_of_qubits+1,1)\n",
    "    vec = np.concatenate((vec1,vec2))/np.sqrt(2)\n",
    "    \n",
    "    circ.initialize(vec, range(math.ceil(no_of_qubits)+1))\n",
    "    circ.h(math.ceil(no_of_qubits))\n",
    "    circ.measure(math.ceil(no_of_qubits),0)\n",
    "\n",
    "    backend = Aer.get_backend('qasm_simulator')\n",
    "    job = execute(circ, backend, shots=20000)\n",
    "\n",
    "    result = job.result()\n",
    "    outputstate = result.get_counts(circ)\n",
    "\n",
    "    if ('0' in outputstate.keys()):\n",
    "        m_sum = float(outputstate[\"0\"])/20000\n",
    "        print(m_sum)\n",
    "        print(np.sqrt(2 - 2*(2*m_sum -1)))\n",
    "    else:\n",
    "        m_sum = 0\n",
    "     \n",
    "    return 2*m_sum-1\n",
    " "
   ]
  },
  {
   "cell_type": "code",
   "execution_count": 13,
   "metadata": {},
   "outputs": [
    {
     "name": "stdout",
     "output_type": "stream",
     "text": [
      "Classical Euclidean distance =  1.13714240647541\n",
      "0.6785\n",
      "1.134019400186787\n",
      "Quantum Euclidean Distance =  1.134019400186787\n",
      "\n",
      "[0.         0.08451543 0.16903085 0.25354628 0.3380617  0.42257713\n",
      " 0.50709255 0.59160798] [ 0.45705959 -0.29912752  0.38504192  0.32967921 -0.36994325  0.45068736\n",
      " -0.04848989  0.31991438]\n"
     ]
    }
   ],
   "source": [
    "print(\"Classical Euclidean distance = \" , np.sqrt((x-y)@(x-y)))\n",
    "print(\"Quantum Euclidean Distance = \" , np.sqrt(2-2*inner_prod(x, y)))\n",
    "print(\"\")\n",
    "print(x,y)\n"
   ]
  },
  {
   "cell_type": "code",
   "execution_count": 14,
   "metadata": {},
   "outputs": [],
   "source": [
    "#dimensions = 2\n",
    "#dist1 = np.array([[inner_prod(mnvec, movec),inner_prod(mnvec, novec)],[inner_prod(mqvec, mnvec),inner_prod(movec, novec)]])\n",
    "#dist2 = np.array([[inner_prod(novec, mqvec),inner_prod(movec, mqvec)], [inner_prod(mvec, nqvec), inner_prod(nvec, ovec)]])\n",
    "#z1 = np.zeros((dimensions,dimensions))\n",
    "#in_qmatrix = np.block([[z1,dist1],[dist2,z1]])\n",
    "#print(in_qmatrix)\n"
   ]
  },
  {
   "cell_type": "code",
   "execution_count": 39,
   "metadata": {},
   "outputs": [],
   "source": [
    "#dist1c = np.array([[z1vec,z2vec],[z3vec,z4vec]])\n",
    "#dist2c = np.array([[z5vec, z6vec], [z7vec, z8vec]])\n",
    "#in_cmatrix = np.block([[z1,dist1c],[dist2c, z1]])\n",
    "#print(in_cmatrix)\n",
    "#np.linalg.eigvalsh(in_cmatrix)"
   ]
  },
  {
   "cell_type": "code",
   "execution_count": 44,
   "metadata": {},
   "outputs": [],
   "source": [
    "# Expanding the distance/bi-partite matrix in terms of Pauli matrices\n",
    "#from qiskit.aqua import QuantumInstance, aqua_globals\n",
    "#from qiskit.aqua.components.feature_maps import SecondOrderExpansion\n",
    "#quantum_instance = QuantumInstance(backend=backend_sim,\n",
    " #                                  shots=20000,\n",
    "  #                                 noise_model=noise_model,\n",
    "   #                                coupling_map=coupling_map,\n",
    "    #                               measurement_error_mitigation_cls=CompleteMeasFitter,\n",
    "     #\n",
    "     #                               cals_matrix_refresh_period=30)\n",
    "#hamiltonian = MatrixOperator(in_qmatrix)\n",
    "#hamiltonian_qubit_op = op_converter.to_weighted_pauli_operator(hamiltonian)"
   ]
  },
  {
   "cell_type": "code",
   "execution_count": 24,
   "metadata": {},
   "outputs": [],
   "source": [
    "#num_qubits = 3\n",
    "#circuit1 = QuantumCircuit(num_qubits)\n",
    "#for i in range(num_qubits):\n",
    " # circuit1.x(i)\n",
    "\n",
    "\n",
    "#circuit2 = QuantumCircuit(num_qubits)\n",
    "#for i in range(num_qubits):\n",
    "#  circuit2.id(i)\n",
    "    \n",
    "#swap_test_circuit = QuantumCircuit(2*num_qubits + 1,1)\n",
    "#swap_test_circuit.compose(circuit1, qubits=[1,2,3], inplace=True )\n",
    "#swap_test_circuit.compose(circuit2, qubits=[4,5,6], inplace=True )\n",
    "#swap_test_circuit.h(0)\n",
    "#for i in range(num_qubits):\n",
    " # swap_test_circuit.cswap(0,i+1,i+4)\n",
    "\n",
    "#swap_test_circuit.h(0)\n",
    "#swap_test_circuit.measure([0],[0])\n",
    "#swap_test_circuit.draw()"
   ]
  },
  {
   "cell_type": "code",
   "execution_count": 46,
   "metadata": {},
   "outputs": [
    {
     "name": "stdout",
     "output_type": "stream",
     "text": [
      "^C\n",
      "Note: you may need to restart the kernel to use updated packages.\n",
      "Requirement already satisfied: qiskit-aqua in c:\\users\\sande\\appdata\\local\\packages\\pythonsoftwarefoundation.python.3.9_qbz5n2kfra8p0\\localcache\\local-packages\\python39\\site-packages (0.9.5)\n",
      "Requirement already satisfied: docplex>=2.21.207 in c:\\users\\sande\\appdata\\local\\packages\\pythonsoftwarefoundation.python.3.9_qbz5n2kfra8p0\\localcache\\local-packages\\python39\\site-packages (from qiskit-aqua) (2.23.222)\n",
      "Requirement already satisfied: qiskit-ignis>=0.6.0 in c:\\users\\sande\\appdata\\local\\packages\\pythonsoftwarefoundation.python.3.9_qbz5n2kfra8p0\\localcache\\local-packages\\python39\\site-packages (from qiskit-aqua) (0.7.0)\n",
      "Requirement already satisfied: qiskit-terra>=0.18.0 in c:\\users\\sande\\appdata\\local\\packages\\pythonsoftwarefoundation.python.3.9_qbz5n2kfra8p0\\localcache\\local-packages\\python39\\site-packages (from qiskit-aqua) (0.20.1)\n",
      "Requirement already satisfied: fastdtw<=0.3.4 in c:\\users\\sande\\appdata\\local\\packages\\pythonsoftwarefoundation.python.3.9_qbz5n2kfra8p0\\localcache\\local-packages\\python39\\site-packages (from qiskit-aqua) (0.3.4)\n",
      "Requirement already satisfied: retworkx>=0.8.0 in c:\\users\\sande\\appdata\\local\\packages\\pythonsoftwarefoundation.python.3.9_qbz5n2kfra8p0\\localcache\\local-packages\\python39\\site-packages (from qiskit-aqua) (0.11.0)\n",
      "Requirement already satisfied: quandl in c:\\users\\sande\\appdata\\local\\packages\\pythonsoftwarefoundation.python.3.9_qbz5n2kfra8p0\\localcache\\local-packages\\python39\\site-packages (from qiskit-aqua) (3.7.0)\n",
      "Requirement already satisfied: dlx<=1.0.4 in c:\\users\\sande\\appdata\\local\\packages\\pythonsoftwarefoundation.python.3.9_qbz5n2kfra8p0\\localcache\\local-packages\\python39\\site-packages (from qiskit-aqua) (1.0.4)\n",
      "Requirement already satisfied: numpy>=1.17 in c:\\users\\sande\\appdata\\local\\packages\\pythonsoftwarefoundation.python.3.9_qbz5n2kfra8p0\\localcache\\local-packages\\python39\\site-packages (from qiskit-aqua) (1.22.3)\n",
      "Requirement already satisfied: setuptools>=40.1.0 in c:\\program files\\windowsapps\\pythonsoftwarefoundation.python.3.9_3.9.3312.0_x64__qbz5n2kfra8p0\\lib\\site-packages (from qiskit-aqua) (58.1.0)\n",
      "Requirement already satisfied: h5py<3.3.0 in c:\\users\\sande\\appdata\\local\\packages\\pythonsoftwarefoundation.python.3.9_qbz5n2kfra8p0\\localcache\\local-packages\\python39\\site-packages (from qiskit-aqua) (3.2.1)\n",
      "Requirement already satisfied: scipy>=1.4 in c:\\users\\sande\\appdata\\local\\packages\\pythonsoftwarefoundation.python.3.9_qbz5n2kfra8p0\\localcache\\local-packages\\python39\\site-packages (from qiskit-aqua) (1.8.0)\n",
      "Requirement already satisfied: scikit-learn>=0.20.0 in c:\\users\\sande\\appdata\\local\\packages\\pythonsoftwarefoundation.python.3.9_qbz5n2kfra8p0\\localcache\\local-packages\\python39\\site-packages (from qiskit-aqua) (1.0.2)\n",
      "Requirement already satisfied: psutil>=5 in c:\\users\\sande\\appdata\\local\\packages\\pythonsoftwarefoundation.python.3.9_qbz5n2kfra8p0\\localcache\\local-packages\\python39\\site-packages (from qiskit-aqua) (5.9.0)\n",
      "Requirement already satisfied: pandas in c:\\users\\sande\\appdata\\local\\packages\\pythonsoftwarefoundation.python.3.9_qbz5n2kfra8p0\\localcache\\local-packages\\python39\\site-packages (from qiskit-aqua) (1.4.2)\n",
      "Requirement already satisfied: yfinance>=0.1.62 in c:\\users\\sande\\appdata\\local\\packages\\pythonsoftwarefoundation.python.3.9_qbz5n2kfra8p0\\localcache\\local-packages\\python39\\site-packages (from qiskit-aqua) (0.1.70)\n",
      "Requirement already satisfied: sympy>=1.3 in c:\\users\\sande\\appdata\\local\\packages\\pythonsoftwarefoundation.python.3.9_qbz5n2kfra8p0\\localcache\\local-packages\\python39\\site-packages (from qiskit-aqua) (1.10.1)\n",
      "Requirement already satisfied: six in c:\\users\\sande\\appdata\\local\\packages\\pythonsoftwarefoundation.python.3.9_qbz5n2kfra8p0\\localcache\\local-packages\\python39\\site-packages (from docplex>=2.21.207->qiskit-aqua) (1.16.0)\n",
      "Requirement already satisfied: python-dateutil>=2.8.0 in c:\\users\\sande\\appdata\\local\\packages\\pythonsoftwarefoundation.python.3.9_qbz5n2kfra8p0\\localcache\\local-packages\\python39\\site-packages (from qiskit-terra>=0.18.0->qiskit-aqua) (2.8.2)\n",
      "Requirement already satisfied: tweedledum<2.0,>=1.1 in c:\\users\\sande\\appdata\\local\\packages\\pythonsoftwarefoundation.python.3.9_qbz5n2kfra8p0\\localcache\\local-packages\\python39\\site-packages (from qiskit-terra>=0.18.0->qiskit-aqua) (1.1.1)\n",
      "Requirement already satisfied: stevedore>=3.0.0 in c:\\users\\sande\\appdata\\local\\packages\\pythonsoftwarefoundation.python.3.9_qbz5n2kfra8p0\\localcache\\local-packages\\python39\\site-packages (from qiskit-terra>=0.18.0->qiskit-aqua) (3.5.0)\n",
      "Requirement already satisfied: python-constraint>=1.4 in c:\\users\\sande\\appdata\\local\\packages\\pythonsoftwarefoundation.python.3.9_qbz5n2kfra8p0\\localcache\\local-packages\\python39\\site-packages (from qiskit-terra>=0.18.0->qiskit-aqua) (1.4.0)\n",
      "Requirement already satisfied: dill>=0.3 in c:\\users\\sande\\appdata\\local\\packages\\pythonsoftwarefoundation.python.3.9_qbz5n2kfra8p0\\localcache\\local-packages\\python39\\site-packages (from qiskit-terra>=0.18.0->qiskit-aqua) (0.3.4)\n",
      "Requirement already satisfied: ply>=3.10 in c:\\users\\sande\\appdata\\local\\packages\\pythonsoftwarefoundation.python.3.9_qbz5n2kfra8p0\\localcache\\local-packages\\python39\\site-packages (from qiskit-terra>=0.18.0->qiskit-aqua) (3.11)\n",
      "Requirement already satisfied: threadpoolctl>=2.0.0 in c:\\users\\sande\\appdata\\local\\packages\\pythonsoftwarefoundation.python.3.9_qbz5n2kfra8p0\\localcache\\local-packages\\python39\\site-packages (from scikit-learn>=0.20.0->qiskit-aqua) (3.1.0)\n",
      "Requirement already satisfied: joblib>=0.11 in c:\\users\\sande\\appdata\\local\\packages\\pythonsoftwarefoundation.python.3.9_qbz5n2kfra8p0\\localcache\\local-packages\\python39\\site-packages (from scikit-learn>=0.20.0->qiskit-aqua) (1.1.0)\n",
      "Requirement already satisfied: mpmath>=0.19 in c:\\users\\sande\\appdata\\local\\packages\\pythonsoftwarefoundation.python.3.9_qbz5n2kfra8p0\\localcache\\local-packages\\python39\\site-packages (from sympy>=1.3->qiskit-aqua) (1.2.1)\n",
      "Requirement already satisfied: requests>=2.26 in c:\\users\\sande\\appdata\\local\\packages\\pythonsoftwarefoundation.python.3.9_qbz5n2kfra8p0\\localcache\\local-packages\\python39\\site-packages (from yfinance>=0.1.62->qiskit-aqua) (2.27.1)\n",
      "Requirement already satisfied: lxml>=4.5.1 in c:\\users\\sande\\appdata\\local\\packages\\pythonsoftwarefoundation.python.3.9_qbz5n2kfra8p0\\localcache\\local-packages\\python39\\site-packages (from yfinance>=0.1.62->qiskit-aqua) (4.8.0)\n",
      "Requirement already satisfied: multitasking>=0.0.7 in c:\\users\\sande\\appdata\\local\\packages\\pythonsoftwarefoundation.python.3.9_qbz5n2kfra8p0\\localcache\\local-packages\\python39\\site-packages (from yfinance>=0.1.62->qiskit-aqua) (0.0.10)\n",
      "Requirement already satisfied: pytz>=2020.1 in c:\\users\\sande\\appdata\\local\\packages\\pythonsoftwarefoundation.python.3.9_qbz5n2kfra8p0\\localcache\\local-packages\\python39\\site-packages (from pandas->qiskit-aqua) (2022.1)\n",
      "Requirement already satisfied: inflection>=0.3.1 in c:\\users\\sande\\appdata\\local\\packages\\pythonsoftwarefoundation.python.3.9_qbz5n2kfra8p0\\localcache\\local-packages\\python39\\site-packages (from quandl->qiskit-aqua) (0.5.1)\n",
      "Requirement already satisfied: more-itertools in c:\\users\\sande\\appdata\\local\\packages\\pythonsoftwarefoundation.python.3.9_qbz5n2kfra8p0\\localcache\\local-packages\\python39\\site-packages (from quandl->qiskit-aqua) (8.12.0)\n",
      "Requirement already satisfied: certifi>=2017.4.17 in c:\\users\\sande\\appdata\\local\\packages\\pythonsoftwarefoundation.python.3.9_qbz5n2kfra8p0\\localcache\\local-packages\\python39\\site-packages (from requests>=2.26->yfinance>=0.1.62->qiskit-aqua) (2021.10.8)\n",
      "Requirement already satisfied: charset-normalizer~=2.0.0 in c:\\users\\sande\\appdata\\local\\packages\\pythonsoftwarefoundation.python.3.9_qbz5n2kfra8p0\\localcache\\local-packages\\python39\\site-packages (from requests>=2.26->yfinance>=0.1.62->qiskit-aqua) (2.0.12)\n",
      "Requirement already satisfied: urllib3<1.27,>=1.21.1 in c:\\users\\sande\\appdata\\local\\packages\\pythonsoftwarefoundation.python.3.9_qbz5n2kfra8p0\\localcache\\local-packages\\python39\\site-packages (from requests>=2.26->yfinance>=0.1.62->qiskit-aqua) (1.26.9)\n",
      "Requirement already satisfied: idna<4,>=2.5 in c:\\users\\sande\\appdata\\local\\packages\\pythonsoftwarefoundation.python.3.9_qbz5n2kfra8p0\\localcache\\local-packages\\python39\\site-packages (from requests>=2.26->yfinance>=0.1.62->qiskit-aqua) (3.3)\n",
      "Requirement already satisfied: pbr!=2.1.0,>=2.0.0 in c:\\users\\sande\\appdata\\local\\packages\\pythonsoftwarefoundation.python.3.9_qbz5n2kfra8p0\\localcache\\local-packages\\python39\\site-packages (from stevedore>=3.0.0->qiskit-terra>=0.18.0->qiskit-aqua) (5.8.1)\n"
     ]
    }
   ],
   "source": [
    "%pip install qiskit-aqua\n"
   ]
  },
  {
   "cell_type": "code",
   "execution_count": 221,
   "metadata": {},
   "outputs": [
    {
     "data": {
      "text/plain": [
       "8.7425"
      ]
     },
     "execution_count": 221,
     "metadata": {},
     "output_type": "execute_result"
    }
   ],
   "source": [
    "1 + 1.69 + 2.25 + (2.25*1.69)"
   ]
  },
  {
   "cell_type": "code",
   "execution_count": 47,
   "metadata": {},
   "outputs": [
    {
     "data": {
      "text/plain": [
       "6.34"
      ]
     },
     "execution_count": 47,
     "metadata": {},
     "output_type": "execute_result"
    }
   ],
   "source": [
    "np.array([-0.3, -2.5])@np.array([-0.3, -2.5])"
   ]
  },
  {
   "cell_type": "code",
   "execution_count": 48,
   "metadata": {},
   "outputs": [
    {
     "data": {
      "text/plain": [
       "0.7251930225907921"
      ]
     },
     "execution_count": 48,
     "metadata": {},
     "output_type": "execute_result"
    }
   ],
   "source": [
    "6.34/8.7425\n"
   ]
  },
  {
   "cell_type": "markdown",
   "metadata": {},
   "source": [
    "# SWAP TEST CIRCUIT IMPLEMENTATION AND NUMBERS"
   ]
  },
  {
   "cell_type": "code",
   "execution_count": 12,
   "metadata": {},
   "outputs": [],
   "source": []
  },
  {
   "cell_type": "code",
   "execution_count": 15,
   "metadata": {},
   "outputs": [
    {
     "data": {
      "text/html": [
       "<pre style=\"word-wrap: normal;white-space: pre;background: #fff0;line-height: 1.1;font-family: &quot;Courier New&quot;,Courier,monospace\">                                                       ░ ┌───┐   ┌───┐ ░ ┌─┐\n",
       " anc: ─────────────────────────────────────────────────░─┤ H ├─■─┤ H ├─░─┤M├\n",
       "              ┌──────────────────────────────┐         ░ └───┘ │ └───┘ ░ └╥┘\n",
       "  q2: ────────┤ Initialize(0.50709,-0.86189) ├─────────░───────X───────░──╫─\n",
       "      ┌───────┴──────────────────────────────┴───────┐ ░       │       ░  ║ \n",
       "q3_0: ┤0                                             ├─░───────X───────░──╫─\n",
       "      │  Initialize(0.31623,0.43412,0.63246,0.55816) │ ░               ░  ║ \n",
       "q3_1: ┤1                                             ├─░───────────────░──╫─\n",
       "      └──────────────────────────────────────────────┘ ░               ░  ║ \n",
       " c: 1/════════════════════════════════════════════════════════════════════╩═\n",
       "                                                                          0 </pre>"
      ],
      "text/plain": [
       "                                                       ░ ┌───┐   ┌───┐ ░ ┌─┐\n",
       " anc: ─────────────────────────────────────────────────░─┤ H ├─■─┤ H ├─░─┤M├\n",
       "              ┌──────────────────────────────┐         ░ └───┘ │ └───┘ ░ └╥┘\n",
       "  q2: ────────┤ Initialize(0.50709,-0.86189) ├─────────░───────X───────░──╫─\n",
       "      ┌───────┴──────────────────────────────┴───────┐ ░       │       ░  ║ \n",
       "q3_0: ┤0                                             ├─░───────X───────░──╫─\n",
       "      │  Initialize(0.31623,0.43412,0.63246,0.55816) │ ░               ░  ║ \n",
       "q3_1: ┤1                                             ├─░───────────────░──╫─\n",
       "      └──────────────────────────────────────────────┘ ░               ░  ║ \n",
       " c: 1/════════════════════════════════════════════════════════════════════╩═\n",
       "                                                                          0 "
      ]
     },
     "execution_count": 15,
     "metadata": {},
     "output_type": "execute_result"
    }
   ],
   "source": [
    "# First step is to encode the data into quantum states. \n",
    "#There are some techniques to do it, in this case Amplitude embedding was used.\n",
    "from scipy.spatial import distance\n",
    "\n",
    "A = np.array([3,6])    # I am not sure how big the vectors of Tu are, but should be easy to generalize. \n",
    "B = np.array([7,9])\n",
    "A-B\n",
    "c = np.linalg.norm(A-B)     # the Euclidean distance computed using numpy \n",
    "\n",
    "A_norm=np.linalg.norm(A)          \n",
    "B_norm=np.linalg.norm(B)\n",
    "Dist=distance.euclidean(A, B)\n",
    "Z = round(A_norm**2 + B_norm**2)  # To normalize our quantum register, this is needed. \n",
    " \n",
    "# create phi and psi state with the data    \n",
    "phi = np.array([A_norm/np.sqrt(Z),-B_norm/np.sqrt(Z)]) # The first quantum register (amplitude encoded) vector  \n",
    "psi = []                            \n",
    "\n",
    "for i in range(len(A)):\n",
    "    psi.append(((A[i]/A_norm) /np.sqrt(2)))   # second quantum register initialized. \n",
    "    psi.append(((B[i]/B_norm) /np.sqrt(2)))   # so we concatenate both vectors to form a 1-d array of len(A) + len(B)\n",
    "# Quantum Circuit\n",
    "q1 = QuantumRegister(1,name='anc')          # initialize anciallary qubit\n",
    "q2 = QuantumRegister(1,name='q2')           # I have written this code for only 1 qubit for the q2 register. we can opt for arbitrary lengths   \n",
    "q3 = QuantumRegister(2,name ='q3')          # quantum register with 2 qubits because we encode psi which is a state of dimension 4\n",
    "c = ClassicalRegister(1,name='c')           # one classical register for measurement purposes\n",
    "qc= QuantumCircuit(q1,q2,q3,c)              \n",
    "\n",
    "# states initialization\n",
    "qc.initialize(phi, q2)\n",
    "qc.initialize(psi, q3[0:2])\n",
    "qc.barrier()                               # Totatl wavefunctions can be seen at the first barrier before the cswap test is complete\n",
    "\n",
    "# The swap test protocol \n",
    "qc.h(q1[0])                                  \n",
    "qc.cswap(q1[0], q2[0], q3[0])\n",
    "qc.h(q1[0] )\n",
    "qc.barrier()\n",
    "qc.measure(q1,c)\n",
    "\n",
    "qc.draw()\n"
   ]
  },
  {
   "cell_type": "code",
   "execution_count": 19,
   "metadata": {},
   "outputs": [
    {
     "name": "stdout",
     "output_type": "stream",
     "text": [
      "Euclidean Distance quantum:  4.9767\n",
      "Euclidean Distance classical:  5.0\n"
     ]
    }
   ],
   "source": [
    "from qiskit.visualization import plot_histogram\n",
    "shots = 1000000\n",
    "job = execute(qc,Aer.get_backend('qasm_simulator'),shots=shots)\n",
    "result = job.result()\n",
    "countsqd = result.get_counts(qc)\n",
    "x = abs((4*Z*(countsqd['0']/shots - 0.5)))\n",
    "quant_Dist = round(np.sqrt(x),4)\n",
    "decimals = 5\n",
    "print('Euclidean Distance quantum: ', round(quant_Dist,decimals))    \n",
    "print('Euclidean Distance classical: ', round(Dist,4))  \n",
    "\n",
    "\n"
   ]
  },
  {
   "cell_type": "code",
   "execution_count": null,
   "metadata": {},
   "outputs": [],
   "source": []
  },
  {
   "cell_type": "code",
   "execution_count": null,
   "metadata": {},
   "outputs": [],
   "source": []
  }
 ],
 "metadata": {
  "interpreter": {
   "hash": "81d15e962537a4feb30994dc5ca1fdf60472319e43d2752e4642508a3bf159c9"
  },
  "kernelspec": {
   "display_name": "Python 3.9.12 64-bit (windows store)",
   "language": "python",
   "name": "python3"
  },
  "language_info": {
   "codemirror_mode": {
    "name": "ipython",
    "version": 3
   },
   "file_extension": ".py",
   "mimetype": "text/x-python",
   "name": "python",
   "nbconvert_exporter": "python",
   "pygments_lexer": "ipython3",
   "version": "3.9.12"
  },
  "orig_nbformat": 4
 },
 "nbformat": 4,
 "nbformat_minor": 2
}
