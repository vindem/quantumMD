{
 "cells": [
  {
   "cell_type": "markdown",
   "id": "77773672",
   "metadata": {},
   "source": [
    "# Quantum Molecular Dynamics "
   ]
  },
  {
   "cell_type": "markdown",
   "id": "7f058bbf",
   "metadata": {},
   "source": [
    "“*In fact, the mere act of opening the box will determine the state of the\n",
    "cat, although in this case there were three determinate states the cat\n",
    "could be in: these being* **Alive**, **Dead**, *and* **Bloody Furious**.”\n",
    "― Terry Pratchett, \"Lords and Ladies\" "
   ]
  },
  {
   "cell_type": "markdown",
   "id": "8f962b95",
   "metadata": {},
   "source": [
    "## High-Level Problem Description"
   ]
  },
  {
   "cell_type": "markdown",
   "id": "a3aad5f5",
   "metadata": {},
   "source": [
    "TODO"
   ]
  },
  {
   "cell_type": "markdown",
   "id": "3eef69da",
   "metadata": {},
   "source": [
    "## Mathematical Foundations"
   ]
  },
  {
   "cell_type": "markdown",
   "id": "b4152fbe",
   "metadata": {},
   "source": [
    "### Input Matrix ###"
   ]
  },
  {
   "cell_type": "markdown",
   "id": "f1754758",
   "metadata": {},
   "source": [
    " The input matrix $H$, which represents the state of the quantum system, is built in the following way:"
   ]
  },
  {
   "cell_type": "markdown",
   "id": "092c9cc6",
   "metadata": {},
   "source": [
    "Let $A$, $B$ be two segments with $n$ points. We define $H$ as:"
   ]
  },
  {
   "cell_type": "markdown",
   "id": "c64814ef",
   "metadata": {},
   "source": [
    "\\begin{equation}\n",
    "H = \\begin{pmatrix}\n",
    "        0^{n \\times n} & D(A,B) \\\\\n",
    "        D(A,B)^{T} & 0^{n \\times n} \\\\\n",
    "     \\end{pmatrix}\n",
    "\\end{equation}"
   ]
  },
  {
   "cell_type": "markdown",
   "id": "6576745e",
   "metadata": {},
   "source": [
    "Such that each $D_{AB}$ cell contains the **squared euclidean distance** between each component of $A$ and $B$, namely,"
   ]
  },
  {
   "cell_type": "markdown",
   "id": "649ba812",
   "metadata": {},
   "source": [
    "\\begin{equation}\n",
    "d(a_i,b_i) = \\sqrt{(b_x - a_x)^2 + (b_y - a_y)^2 + (b_z - a_z)^2}.\n",
    "\\label{eq:distanceEq}\n",
    "\\end{equation}"
   ]
  },
  {
   "cell_type": "markdown",
   "id": "d2460df8",
   "metadata": {},
   "source": [
    "**Th**: Input matrix $H$ is **Hermitian**."
   ]
  },
  {
   "cell_type": "markdown",
   "id": "4760a173",
   "metadata": {},
   "source": [
    "**Proof**: Let $H \\in \\mathbb{C}^{n} \\times \\mathbb{C}^{n}$, with $n \\in \\mathbb{N}$. $H$ is **Hermitian** $\\iff H = H^{\\dagger}$."
   ]
  },
  {
   "cell_type": "markdown",
   "id": "6bf587c2",
   "metadata": {},
   "source": [
    "$H^{\\dagger}$ is the **adjunct** of $H$, i.e., the **transpose complex conjugate** of $H$, meaning that $H_{ij} = \\overline{H_{ji}}$. "
   ]
  },
  {
   "cell_type": "markdown",
   "id": "9345a236",
   "metadata": {},
   "source": [
    "For $0$ cells, complex conjugate is 0. For cells of $D_{AB}$, we know that $d$ is defined as an application $\\mathbb{V} \\times \\mathbb{V} \\mapsto \\mathbb{R}$. Since for each $x \\in \\mathbb{R}, \\overline{x} = x$, we have that $H = \\overline{H}$."
   ]
  },
  {
   "cell_type": "markdown",
   "id": "7ae0fcce",
   "metadata": {},
   "source": [
    "Now, what's left to prove is that $H = H^{T}$. To prove it, we calculate the transpose of $H$ as follows:"
   ]
  },
  {
   "cell_type": "markdown",
   "id": "a5fb7ee9",
   "metadata": {},
   "source": [
    "$H^{T} = \\begin{pmatrix}\n",
    "           0 & \\dots & 0 & D(A,B)_{0,0} & \\dots & D(A,B)_{0,n} \\\\\n",
    "           \\vdots & \\ddots & \\vdots & \\vdots & \\ddots & \\vdots \\\\\n",
    "           0 & \\dots & 0 & D(A,B)_{n,0} & \\dots & D(A,B)_{n,n}  \\\\\n",
    "           D(A,B)_{0,0} & \\dots & D(A,B)_{n,0} & 0 & \\dots & 0\\\\\n",
    "           \\vdots & \\ddots & \\vdots & \\vdots & \\ddots & \\vdots \\\\\n",
    "           D(A,B)_{0,n} & \\dots & D(A,B)_{n,n} & 0 & \\dots & 0\\\\\n",
    "        \\end{pmatrix}^{T} = \\begin{pmatrix}\n",
    "           0 & \\dots & 0 & D(A,B)_{0,0} & \\dots & D(A,B)_{0,n} \\\\\n",
    "           \\vdots & \\ddots & \\vdots & \\vdots & \\ddots & \\vdots \\\\\n",
    "           0 & \\dots & 0 & D(A,B)_{n,0} & \\dots & D(A,B)_{n,n}  \\\\\n",
    "           D(A,B)_{0,0} & \\dots & D(A,B)_{n,0} & 0 & \\dots & 0\\\\\n",
    "           \\vdots & \\ddots & \\vdots & \\vdots & \\ddots & \\vdots \\\\\n",
    "           D(A,B)_{0,n} & \\dots & D(A,B)_{n,n} & 0 & \\dots & 0\\\\\n",
    "        \\end{pmatrix}$"
   ]
  },
  {
   "cell_type": "markdown",
   "id": "5a66d275",
   "metadata": {},
   "source": [
    "Since $H_{i,j}^{T} = H_{j,i}.~\\mathbf{\\square}$"
   ]
  },
  {
   "cell_type": "markdown",
   "id": "b7230dbc",
   "metadata": {},
   "source": [
    "The main advantage of $H$ being Hermitian is that all the eigenvalues are real, therefore are suitable representations for the Hamiltonians of quantum systems."
   ]
  },
  {
   "cell_type": "markdown",
   "id": "e7daaf0f",
   "metadata": {},
   "source": [
    "### Eigenvalues Calculation "
   ]
  },
  {
   "cell_type": "markdown",
   "id": "b423ee6d",
   "metadata": {},
   "source": [
    "The goal of this work is to calculate distance of two alpha carbon atoms in the same segment or among two different segments. To this end, we need to calculate the lowest eigenvalue of $H$. "
   ]
  },
  {
   "cell_type": "markdown",
   "id": "716419ea",
   "metadata": {},
   "source": [
    "Calculation of eigenvalues in quantum machine is defined as follows: given a Hermitian matrix 𝐻\n",
    "and a minimum eigenvalue $\\lambda_{min}$, associated to a quantum eigenstate $|\\psi_{min}\\rangle$, we want to find a $\\lambda_{\\theta}$ such that:"
   ]
  },
  {
   "cell_type": "markdown",
   "id": "a63d21e8",
   "metadata": {},
   "source": [
    "\\begin{equation}\n",
    "\\lambda_{min} \\leq \\lambda_{\\theta} \\equiv \\langle \\psi(\\theta)|H|\\psi(\\theta)\\rangle\n",
    "\\end{equation}"
   ]
  },
  {
   "cell_type": "markdown",
   "id": "c3a94afd",
   "metadata": {},
   "source": [
    "Where $\\psi(\\theta)$ is the eigenstate associated to $\\lambda_{\\theta}$ and $\\theta$ is the parameter of the quantum Ansatz, which is used to minimize $\\lambda_{\\theta}$."
   ]
  },
  {
   "cell_type": "markdown",
   "id": "f18ac795",
   "metadata": {},
   "source": [
    "In order to find $\\lambda_{\\theta}$, we define the problem as the **minimization** of the cost function $C(\\theta)$, defined as:"
   ]
  },
  {
   "cell_type": "markdown",
   "id": "80321d49",
   "metadata": {},
   "source": [
    "\\begin{equation}\n",
    "C(\\theta) = \\langle \\psi(\\theta) | H | \\psi(\\theta) \\rangle\n",
    "\\end{equation}"
   ]
  },
  {
   "cell_type": "markdown",
   "id": "96874c74",
   "metadata": {},
   "source": [
    "While the minimization of $C$ can be solved by a standard optimizer, i.e., COBYLA, SPSS, we need to define a **parametrized quantum circuit** for the state $\\psi(\\theta)$. "
   ]
  },
  {
   "cell_type": "markdown",
   "id": "02fc5377",
   "metadata": {},
   "source": [
    "### \"Naive\" Approach"
   ]
  },
  {
   "cell_type": "markdown",
   "id": "2310245f",
   "metadata": {},
   "source": [
    "The main idea behind the naive approach is to use the input $H$ matrix to define a **operator**, i.e., a function over a space of physical states onto another space of physical states. In our case, if $\\psi$ is the wavefunction of a quantum system, and $H$ represents a *linear transformation* between basis representing different states of the quantum system. Since $H$ is hermitian, we are sure that:\n",
    "* Eigenvalues are real;\n",
    "* Basis corresponding to different eigenvalues are orthogonal.\n",
    "Orthogonality allows a suitable basis set of vectors to represent quantum system's state. If $\\psi$ is an eigenstate, we have\n",
    "\\begin{equation}\n",
    "H\\psi(\\theta) = \\lambda_{\\theta}\\psi(\\theta)\n",
    "\\end{equation}\n",
    "Our goal is then to find the smallest $\\psi(\\theta)$ such that $\\lambda_{\\theta} \\geq \\lambda_{min}$. "
   ]
  },
  {
   "cell_type": "markdown",
   "id": "d6e756a3",
   "metadata": {},
   "source": [
    "#### Qiskit implementation\n"
   ]
  },
  {
   "cell_type": "markdown",
   "id": "b0a6b0cd",
   "metadata": {},
   "source": [
    "First of all, we initialize our quantum instance as follows:"
   ]
  },
  {
   "cell_type": "code",
   "execution_count": 20,
   "id": "dfc779d3",
   "metadata": {},
   "outputs": [
    {
     "name": "stderr",
     "output_type": "stream",
     "text": [
      "ibmqfactory.load_account:WARNING:2022-02-25 15:05:19,799: Credentials are already in use. The existing account in the session will be replaced.\n"
     ]
    }
   ],
   "source": [
    "from qiskit import IBMQ, Aer\n",
    "from qiskit.aqua import QuantumInstance\n",
    "from qiskit.providers.aer.noise import NoiseModel\n",
    "from qiskit.ignis.mitigation.measurement import CompleteMeasFitter\n",
    "\n",
    "#Loading data about our backend quantum architecture\n",
    "IBMQ.load_account()\n",
    "provider = IBMQ.get_provider(hub='ibm-q')\n",
    "backend_sim = Aer.get_backend(\"qasm_simulator\")\n",
    "backend_real = provider.get_backend(\"ibmq_lima\")\n",
    "coupling_map = backend_real.configuration().coupling_map\n",
    "# Extracting noise model for error mitigation\n",
    "noise_model = NoiseModel.from_backend(backend_real)\n",
    "# Initializing quantum instance with error mitigation based on noise model of backend_real\n",
    "quantum_instance = QuantumInstance(backend=backend_sim,\n",
    "                                   shots=20000,\n",
    "                                   noise_model=noise_model,\n",
    "                                   coupling_map=coupling_map,\n",
    "                                   measurement_error_mitigation_cls=CompleteMeasFitter,\n",
    "                                   cals_matrix_refresh_period=30)\n"
   ]
  },
  {
   "cell_type": "markdown",
   "id": "207f7854",
   "metadata": {},
   "source": [
    "Now, we need a standard optimizer to run the variational optimization process. We choose COBYLA optimizer, available from qiskit module, and initialize it."
   ]
  },
  {
   "cell_type": "code",
   "execution_count": 21,
   "id": "4339f5ee",
   "metadata": {},
   "outputs": [],
   "source": [
    "from qiskit.aqua.components.optimizers import COBYLA\n",
    "\n",
    "optimizer = COBYLA(maxiter=5000, tol=0.0001)"
   ]
  },
  {
   "cell_type": "markdown",
   "id": "1a645023",
   "metadata": {},
   "source": [
    "Afterwards, we transform the input $H$ matrix into an operator."
   ]
  },
  {
   "cell_type": "code",
   "execution_count": 22,
   "id": "765065f2",
   "metadata": {},
   "outputs": [],
   "source": [
    "from qiskit.aqua.operators import MatrixOperator, op_converter\n",
    "import numpy as np\n",
    "\n",
    "#Initialization of a 2x2 matrix in the same shape as MD program\n",
    "dimensions = 2\n",
    "rdist = np.random.rand(dimensions,dimensions)\n",
    "rdist[0][0] = 1.0\n",
    "rdist[0][1] = 2.0\n",
    "rdist[1][0] = 1.0\n",
    "rdist[1][1] = 3.0\n",
    "rdistt = np.transpose(rdist)\n",
    "z1 = np.zeros((dimensions,dimensions))\n",
    "z2 = np.zeros((dimensions,dimensions))\n",
    "in_matrix = np.block([[z1,rdist],[rdistt,z2]])\n",
    "\n",
    "#Converting matrix into operator\n",
    "hamiltonian = MatrixOperator(in_matrix)\n",
    "hamiltonian_qubit_op = op_converter.to_weighted_pauli_operator(hamiltonian)"
   ]
  },
  {
   "cell_type": "markdown",
   "id": "d3ee257b",
   "metadata": {},
   "source": [
    "Now, we need to define our own Ansatz, where the variational algorithm and the operator will be applied. To this end, we use the *RealAmplitudes* wave function, i.e., a heuristic trial wave function used as Ansatz in chemistry\n",
    "applications or classification circuits in machine learning. The circuit consists of alternating layers of $RY$ and $CX$ entanglements. Another characteristic of this Ansatz is that the amplitudes are always real. We use an Ansatz with $2$ qubits and $2$ repetitions and visualize it."
   ]
  },
  {
   "cell_type": "code",
   "execution_count": 23,
   "id": "34c05bf6",
   "metadata": {},
   "outputs": [
    {
     "data": {
      "text/html": [
       "<pre style=\"word-wrap: normal;white-space: pre;background: #fff0;line-height: 1.1;font-family: &quot;Courier New&quot;,Courier,monospace\">     ┌────────────────────────────────────────────────┐\n",
       "q_0: ┤0                                               ├\n",
       "     │  RealAmplitudes(θ[0],θ[1],θ[2],θ[3],θ[4],θ[5]) │\n",
       "q_1: ┤1                                               ├\n",
       "     └────────────────────────────────────────────────┘</pre>"
      ],
      "text/plain": [
       "     ┌────────────────────────────────────────────────┐\n",
       "q_0: ┤0                                               ├\n",
       "     │  RealAmplitudes(θ[0],θ[1],θ[2],θ[3],θ[4],θ[5]) │\n",
       "q_1: ┤1                                               ├\n",
       "     └────────────────────────────────────────────────┘"
      ]
     },
     "execution_count": 23,
     "metadata": {},
     "output_type": "execute_result"
    }
   ],
   "source": [
    "from qiskit.circuit.library import RealAmplitudes\n",
    "best_ansatz_ever = RealAmplitudes(2,reps=2)\n",
    "best_ansatz_ever.draw(output='text')"
   ]
  },
  {
   "cell_type": "markdown",
   "id": "016c902f",
   "metadata": {},
   "source": [
    "Finally, we run the VQE algorithm on the input qubit operator."
   ]
  },
  {
   "cell_type": "code",
   "execution_count": 24,
   "id": "be6704ef",
   "metadata": {},
   "outputs": [
    {
     "name": "stdout",
     "output_type": "stream",
     "text": [
      "-3.7626953125\n"
     ]
    }
   ],
   "source": [
    "from qiskit.aqua.algorithms import VQE\n",
    "\n",
    "vqe = VQE(operator=hamiltonian_qubit_op,var_form=best_ansatz_ever,quantum_instance=quantum_instance, optimizer=optimizer)\n",
    "vqe_result = np.real(vqe.run(backend_sim)['eigenvalue'])\n",
    "print(vqe_result)"
   ]
  },
  {
   "cell_type": "markdown",
   "id": "0a1d3cf1",
   "metadata": {},
   "source": [
    "#### Performance evaluation"
   ]
  },
  {
   "cell_type": "markdown",
   "id": "2b439316",
   "metadata": {},
   "source": [
    "We evaluate the performance of eigenvalue calculation using the \"naive\" approach, by comparing the results of classic algorithm with VQE. To this end, we calculate the Normalized Root Mean Square Error (NRMSE) between the \"classic\" and the VQE value over 100 randomly generated matrices."
   ]
  },
  {
   "cell_type": "code",
   "execution_count": 25,
   "id": "d80547b8",
   "metadata": {},
   "outputs": [
    {
     "name": "stdout",
     "output_type": "stream",
     "text": [
      "RMSE: 0.05340649243796343\n",
      "NRMSE: 4.1659%\n"
     ]
    }
   ],
   "source": [
    "import math\n",
    "import scipy.linalg as lin_alg\n",
    "\n",
    "#storing values of, respectively, classic and quantum eigenvalues\n",
    "classic = []\n",
    "quantum = []\n",
    "\n",
    "for i in range(1,100):\n",
    "    #Initializing random matrix\n",
    "    rdist = np.random.rand(dimensions,dimensions)\n",
    "    rdistt = np.transpose(rdist)\n",
    "    z1 = np.zeros((dimensions,dimensions))\n",
    "    z2 = np.zeros((dimensions,dimensions))\n",
    "    in_matrix = np.block([[z1,rdist],[rdistt,z2]])\n",
    "    \n",
    "    #Conversion of matrix into operator\n",
    "    hamiltonian = MatrixOperator(in_matrix)\n",
    "    hamiltonian_qubit_op = op_converter.to_weighted_pauli_operator(hamiltonian)\n",
    "    \n",
    "    #Calculation of Quantum eigenvalue\n",
    "    vqe = VQE(operator=hamiltonian_qubit_op,var_form=best_ansatz_ever,quantum_instance=quantum_instance, optimizer=optimizer)\n",
    "    vqe_result = np.real(vqe.run(backend_sim)['eigenvalue'])\n",
    "    \n",
    "    #Calculation of Classic eigenvalue\n",
    "    classic_result = lin_alg.eigvalsh(in_matrix)[0]\n",
    "    \n",
    "    #Storing eigenvalues of current matrix\n",
    "    classic.append(classic_result)\n",
    "    quantum.append(vqe_result)\n",
    "\n",
    "#Calculating mean square error, root mean square error, root mean square error\n",
    "MSE = np.square(np.subtract(classic,quantum)).mean()\n",
    "RMSE = math.sqrt(MSE)\n",
    "print(\"RMSE: \"+str(RMSE))\n",
    "format_rmse = \"{:.4f}\".format((RMSE/(max(classic)-min(classic)))*100.0)\n",
    "print(\"NRMSE: \"+format_rmse+ \"%\")"
   ]
  },
  {
   "cell_type": "markdown",
   "id": "bda9db5b",
   "metadata": {},
   "source": [
    "#### Problems with naive approach"
   ]
  },
  {
   "cell_type": "markdown",
   "id": "8cbe9e8d",
   "metadata": {},
   "source": [
    "* MatrixOperator is deprecated (future version will require to use standard quantum gates, i.e., Pauli, Toffoli gates);\n",
    "* Complexity of transformation is hidden;\n",
    "* No control on output of transformation;\n",
    "* Still different from classic value;\n",
    "* Does not work with dimensions which are not power of $2$."
   ]
  },
  {
   "cell_type": "code",
   "execution_count": null,
   "id": "49bf198e",
   "metadata": {},
   "outputs": [],
   "source": []
  }
 ],
 "metadata": {
  "kernelspec": {
   "display_name": "Python 3 (ipykernel)",
   "language": "python",
   "name": "python3"
  },
  "language_info": {
   "codemirror_mode": {
    "name": "ipython",
    "version": 3
   },
   "file_extension": ".py",
   "mimetype": "text/x-python",
   "name": "python",
   "nbconvert_exporter": "python",
   "pygments_lexer": "ipython3",
   "version": "3.9.7"
  }
 },
 "nbformat": 4,
 "nbformat_minor": 5
}
