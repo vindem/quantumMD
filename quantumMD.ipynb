{
 "cells": [
  {
   "cell_type": "markdown",
   "id": "77773672",
   "metadata": {},
   "source": [
    "# Quantum Molecular Dynamics #"
   ]
  },
  {
   "cell_type": "markdown",
   "id": "7f058bbf",
   "metadata": {},
   "source": [
    "“*In fact, the mere act of opening the box will determine the state of the\n",
    "cat, although in this case there were three determinate states the cat\n",
    "could be in: these being **Alive**, **Dead**, and **Bloody Furious**.*”\n",
    "― Terry Pratchett, \"Lords and Ladies\" "
   ]
  },
  {
   "cell_type": "code",
   "execution_count": null,
   "id": "b931ad2e",
   "metadata": {},
   "outputs": [],
   "source": []
  }
 ],
 "metadata": {
  "kernelspec": {
   "display_name": "Python 3 (ipykernel)",
   "language": "python",
   "name": "python3"
  },
  "language_info": {
   "codemirror_mode": {
    "name": "ipython",
    "version": 3
   },
   "file_extension": ".py",
   "mimetype": "text/x-python",
   "name": "python",
   "nbconvert_exporter": "python",
   "pygments_lexer": "ipython3",
   "version": "3.9.7"
  }
 },
 "nbformat": 4,
 "nbformat_minor": 5
}
