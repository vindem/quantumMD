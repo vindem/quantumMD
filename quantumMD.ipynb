{
 "cells": [
  {
   "cell_type": "markdown",
   "id": "77773672",
   "metadata": {},
   "source": [
    "# Quantum Molecular Dynamics "
   ]
  },
  {
   "cell_type": "markdown",
   "id": "7f058bbf",
   "metadata": {},
   "source": [
    "“*In fact, the mere act of opening the box will determine the state of the\n",
    "cat, although in this case there were three determinate states the cat\n",
    "could be in: these being* **Alive**, **Dead**, *and* **Bloody Furious**.”\n",
    "― Terry Pratchett, \"Lords and Ladies\" "
   ]
  },
  {
   "cell_type": "markdown",
   "id": "8f962b95",
   "metadata": {},
   "source": [
    "## High-Level Problem Description"
   ]
  },
  {
   "cell_type": "markdown",
   "id": "a3aad5f5",
   "metadata": {},
   "source": [
    "TODO"
   ]
  },
  {
   "cell_type": "markdown",
   "id": "3eef69da",
   "metadata": {},
   "source": [
    "## Mathematical Foundations"
   ]
  },
  {
   "cell_type": "markdown",
   "id": "b4152fbe",
   "metadata": {},
   "source": [
    "### Input Matrix ###"
   ]
  },
  {
   "cell_type": "markdown",
   "id": "f1754758",
   "metadata": {},
   "source": [
    " The input matrix $H$, which represents the state of the quantum system, is built in the following way:"
   ]
  },
  {
   "cell_type": "markdown",
   "id": "092c9cc6",
   "metadata": {},
   "source": [
    "Let $A$, $B$ be two segments with $n$ points. We define $H$ as:"
   ]
  },
  {
   "cell_type": "markdown",
   "id": "c64814ef",
   "metadata": {},
   "source": [
    "\\begin{equation}\n",
    "H = \\begin{pmatrix}\n",
    "        0^{n \\times n} & D(A,B) \\\\\n",
    "        D(A,B)^{T} & 0^{n \\times n} \\\\\n",
    "     \\end{pmatrix}\n",
    "\\end{equation}"
   ]
  },
  {
   "cell_type": "markdown",
   "id": "6576745e",
   "metadata": {},
   "source": [
    "Such that each $D_{AB}$ cell contains the **squared euclidean distance** between each component of $A$ and $B$, namely,"
   ]
  },
  {
   "cell_type": "markdown",
   "id": "649ba812",
   "metadata": {},
   "source": [
    "\\begin{equation}\n",
    "d(a_i,b_i) = \\sqrt{(b_x - a_x)^2 + (b_y - a_y)^2 + (b_z - a_z)^2}.\n",
    "\\label{eq:distanceEq}\n",
    "\\end{equation}"
   ]
  },
  {
   "cell_type": "markdown",
   "id": "d2460df8",
   "metadata": {},
   "source": [
    "**Th**: Input matrix $H$ is **Hermitian**."
   ]
  },
  {
   "cell_type": "markdown",
   "id": "4760a173",
   "metadata": {},
   "source": [
    "**Proof**: Let $H \\in \\mathbb{C}^{n} \\times \\mathbb{C}^{n}$, with $n \\in \\mathbb{N}$. $H$ is **Hermitian** $\\iff H = H^{\\dagger}$."
   ]
  },
  {
   "cell_type": "markdown",
   "id": "6bf587c2",
   "metadata": {},
   "source": [
    "$H^{\\dagger}$ is the **adjunct** of $H$, i.e., the **transpose complex conjugate** of $H$, meaning that $H_{ij} = \\overline{H_{ji}}$. "
   ]
  },
  {
   "cell_type": "markdown",
   "id": "9345a236",
   "metadata": {},
   "source": [
    "For $0$ cells, complex conjugate is 0. For cells of $D_{AB}$, we know that $d$ is defined as an application $\\mathbb{V} \\times \\mathbb{V} \\mapsto \\mathbb{R}$. Since for each $x \\in \\mathbb{R}, \\overline{x} = x$, we have that $H = \\overline{H}$."
   ]
  },
  {
   "cell_type": "markdown",
   "id": "7ae0fcce",
   "metadata": {},
   "source": [
    "Now, what's left to prove is that $H = H^{T}$. To prove it, we calculate the transpose of $H$ as follows:"
   ]
  },
  {
   "cell_type": "markdown",
   "id": "a5fb7ee9",
   "metadata": {},
   "source": [
    "$H^{T} = \\begin{pmatrix}\n",
    "           0 & \\dots & 0 & D(A,B)_{0,0} & \\dots & D(A,B)_{0,n} \\\\\n",
    "           \\vdots & \\ddots & \\vdots & \\vdots & \\ddots & \\vdots \\\\\n",
    "           0 & \\dots & 0 & D(A,B)_{n,0} & \\dots & D(A,B)_{n,n}  \\\\\n",
    "           D(A,B)_{0,0} & \\dots & D(A,B)_{n,0} & 0 & \\dots & 0\\\\\n",
    "           \\vdots & \\ddots & \\vdots & \\vdots & \\ddots & \\vdots \\\\\n",
    "           D(A,B)_{0,n} & \\dots & D(A,B)_{n,n} & 0 & \\dots & 0\\\\\n",
    "        \\end{pmatrix}^{T} = \\begin{pmatrix}\n",
    "           0 & \\dots & 0 & D(A,B)_{0,0} & \\dots & D(A,B)_{0,n} \\\\\n",
    "           \\vdots & \\ddots & \\vdots & \\vdots & \\ddots & \\vdots \\\\\n",
    "           0 & \\dots & 0 & D(A,B)_{n,0} & \\dots & D(A,B)_{n,n}  \\\\\n",
    "           D(A,B)_{0,0} & \\dots & D(A,B)_{n,0} & 0 & \\dots & 0\\\\\n",
    "           \\vdots & \\ddots & \\vdots & \\vdots & \\ddots & \\vdots \\\\\n",
    "           D(A,B)_{0,n} & \\dots & D(A,B)_{n,n} & 0 & \\dots & 0\\\\\n",
    "        \\end{pmatrix}$"
   ]
  },
  {
   "cell_type": "markdown",
   "id": "5a66d275",
   "metadata": {},
   "source": [
    "Since $H_{i,j}^{T} = H_{j,i}.~\\mathbf{\\square}$"
   ]
  },
  {
   "cell_type": "markdown",
   "id": "b7230dbc",
   "metadata": {},
   "source": [
    "The main advantage of $H$ being Hermitian is that all the eigenvalues are real, therefore are suitable representations for the Hamiltonians of quantum systems."
   ]
  },
  {
   "cell_type": "markdown",
   "id": "e7daaf0f",
   "metadata": {},
   "source": [
    "### Eigenvalues Calculation "
   ]
  },
  {
   "cell_type": "markdown",
   "id": "b423ee6d",
   "metadata": {},
   "source": [
    "The goal of this work is to calculate distance of two alpha carbon atoms in the same segment or among two different segments. To this end, we need to calculate the lowest eigenvalue of $H$. "
   ]
  },
  {
   "cell_type": "markdown",
   "id": "716419ea",
   "metadata": {},
   "source": [
    "Calculation of eigenvalues in quantum machine is defined as follows: given a Hermitian matrix 𝐻\n",
    "and a minimum eigenvalue $\\lambda_{min}$, associated to a quantum eigenstate $|\\psi_{min}\\rangle$, we want to find a $\\lambda_{\\theta}$ such that:"
   ]
  },
  {
   "cell_type": "markdown",
   "id": "a63d21e8",
   "metadata": {},
   "source": [
    "\\begin{equation}\n",
    "\\lambda_{min} \\leq \\lambda_{\\theta} \\equiv \\langle \\psi(\\theta)|H|\\psi(\\theta)\\rangle\n",
    "\\end{equation}"
   ]
  },
  {
   "cell_type": "markdown",
   "id": "c3a94afd",
   "metadata": {},
   "source": [
    "Where $\\psi(\\theta)$ is the eigenstate associated to $\\lambda_{\\theta}$ and $\\theta$ is the parameter of the quantum Ansatz, which is used to minimize $\\lambda_{\\theta}$."
   ]
  },
  {
   "cell_type": "markdown",
   "id": "f18ac795",
   "metadata": {},
   "source": [
    "In order to find $\\lambda_{\\theta}$, we define the problem as the **minimization** of the cost function $C(\\theta)$, defined as:"
   ]
  },
  {
   "cell_type": "markdown",
   "id": "80321d49",
   "metadata": {},
   "source": [
    "\\begin{equation}\n",
    "C(\\theta) = \\langle \\psi(\\theta) | H | \\psi(\\theta) \\rangle\n",
    "\\end{equation}"
   ]
  },
  {
   "cell_type": "markdown",
   "id": "96874c74",
   "metadata": {},
   "source": [
    "While the minimization of $C$ can be solved by a standard optimizer, i.e., COBYLA, SPSS, we need to define a **parametrized quantum circuit** for the state $\\psi(\\theta)$. "
   ]
  },
  {
   "cell_type": "markdown",
   "id": "02fc5377",
   "metadata": {},
   "source": [
    "### Parametrized Circuit Definition"
   ]
  },
  {
   "cell_type": "markdown",
   "id": "2310245f",
   "metadata": {},
   "source": [
    "TODO\n",
    "* Check U gate\n",
    "* Entanglement?"
   ]
  },
  {
   "cell_type": "code",
   "execution_count": null,
   "id": "d7ef39bb",
   "metadata": {},
   "outputs": [],
   "source": []
  }
 ],
 "metadata": {
  "kernelspec": {
   "display_name": "Python 3 (ipykernel)",
   "language": "python",
   "name": "python3"
  },
  "language_info": {
   "codemirror_mode": {
    "name": "ipython",
    "version": 3
   },
   "file_extension": ".py",
   "mimetype": "text/x-python",
   "name": "python",
   "nbconvert_exporter": "python",
   "pygments_lexer": "ipython3",
   "version": "3.9.7"
  }
 },
 "nbformat": 4,
 "nbformat_minor": 5
}
