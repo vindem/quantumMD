{
 "cells": [
  {
   "cell_type": "markdown",
   "id": "508b8016",
   "metadata": {},
   "source": [
    "# Comparison of different PQCs #"
   ]
  },
  {
   "cell_type": "markdown",
   "id": "70832417",
   "metadata": {},
   "source": [
    "In this notebook, we compare different PQCs inside Variational Quantum Algorithms. We select three PQC from Qiskit library: RealAmplitudes and EfficientSU2, which are displayed as follows:"
   ]
  },
  {
   "cell_type": "code",
   "execution_count": 2,
   "id": "2be55ba9",
   "metadata": {},
   "outputs": [],
   "source": [
    "from qiskit.circuit.library import RealAmplitudes, EfficientSU2\n",
    "\n",
    "\n",
    "efficientSU2 = EfficientSU2(1, reps=1, entanglement='linear', insert_barriers=True)\n",
    "realAmplitudes = RealAmplitudes(1,reps=1)"
   ]
  },
  {
   "cell_type": "code",
   "execution_count": 3,
   "id": "3cbe5632",
   "metadata": {},
   "outputs": [
    {
     "data": {
      "text/html": [
       "<pre style=\"word-wrap: normal;white-space: pre;background: #fff0;line-height: 1.1;font-family: &quot;Courier New&quot;,Courier,monospace\">   ┌───────────────────────────────────┐\n",
       "q: ┤ EfficientSU2(θ[0],θ[1],θ[2],θ[3]) ├\n",
       "   └───────────────────────────────────┘</pre>"
      ],
      "text/plain": [
       "   ┌───────────────────────────────────┐\n",
       "q: ┤ EfficientSU2(θ[0],θ[1],θ[2],θ[3]) ├\n",
       "   └───────────────────────────────────┘"
      ]
     },
     "execution_count": 3,
     "metadata": {},
     "output_type": "execute_result"
    }
   ],
   "source": [
    "efficientSU2.draw(output='text')"
   ]
  },
  {
   "cell_type": "code",
   "execution_count": 4,
   "id": "32339fea",
   "metadata": {},
   "outputs": [
    {
     "data": {
      "text/html": [
       "<pre style=\"word-wrap: normal;white-space: pre;background: #fff0;line-height: 1.1;font-family: &quot;Courier New&quot;,Courier,monospace\">   ┌───────────────────────────┐\n",
       "q: ┤ RealAmplitudes(θ[0],θ[1]) ├\n",
       "   └───────────────────────────┘</pre>"
      ],
      "text/plain": [
       "   ┌───────────────────────────┐\n",
       "q: ┤ RealAmplitudes(θ[0],θ[1]) ├\n",
       "   └───────────────────────────┘"
      ]
     },
     "execution_count": 4,
     "metadata": {},
     "output_type": "execute_result"
    }
   ],
   "source": [
    "realAmplitudes.draw(output='text')"
   ]
  },
  {
   "cell_type": "markdown",
   "id": "4b3a7d9d",
   "metadata": {},
   "source": [
    "Now we compare execution times of Variational Quantum Eigensolver (VQE) by using both circuits. First, we do the necessary initializations. We initialize a Hermitian matrix to calculate eigenvalues:"
   ]
  },
  {
   "cell_type": "code",
   "execution_count": 6,
   "id": "ed1db41a",
   "metadata": {},
   "outputs": [],
   "source": [
    "import numpy as np\n",
    "\n",
    "rdist = np.random.rand(1, 1)\n",
    "rdistt = np.transpose(rdist)\n",
    "z1 = np.zeros((1, 1))\n",
    "z2 = np.zeros((1, 1))\n",
    "matrix = np.block([[z1, rdist], [rdistt, z2]])"
   ]
  },
  {
   "cell_type": "markdown",
   "id": "28824b59",
   "metadata": {},
   "source": [
    "Then all parts needed for qiskit initialization:"
   ]
  },
  {
   "cell_type": "code",
   "execution_count": 7,
   "id": "8671ca8b",
   "metadata": {},
   "outputs": [],
   "source": [
    "from qiskit import IBMQ\n",
    "\n",
    "from qiskit.providers.ibmq import least_busy\n",
    "from qiskit.providers import JobStatus\n",
    "\n",
    "\n",
    "IBMQ.load_account()\n",
    "provider = IBMQ.get_provider('ibm-q-research-2','vienna-uni-tech-1','main')"
   ]
  },
  {
   "cell_type": "markdown",
   "id": "61526327",
   "metadata": {},
   "source": [
    "We select a target backend in the following way"
   ]
  },
  {
   "cell_type": "code",
   "execution_count": 10,
   "id": "073599c7",
   "metadata": {},
   "outputs": [
    {
     "name": "stdout",
     "output_type": "stream",
     "text": [
      "ibmq_lima\n"
     ]
    }
   ],
   "source": [
    "backend = least_busy(\n",
    "    provider.backends(\n",
    "        filters=lambda x: x.configuration().n_qubits >= 3\n",
    "        and not x.configuration().simulator\n",
    "        and x.status().operational\n",
    "        and x.configuration().dynamic_reprate_enabled\n",
    "    )\n",
    ")\n",
    "print(backend.name())"
   ]
  },
  {
   "cell_type": "markdown",
   "id": "27299c1b",
   "metadata": {},
   "source": [
    "First, we test execution on RealAmplitudes"
   ]
  },
  {
   "cell_type": "code",
   "execution_count": 16,
   "id": "19ce96f8",
   "metadata": {},
   "outputs": [
    {
     "name": "stdout",
     "output_type": "stream",
     "text": [
      "Runtime: 366.8015103340149\n"
     ]
    }
   ],
   "source": [
    "from qiskit.algorithms.optimizers import COBYLA\n",
    "from qiskit.opflow.primitive_ops import MatrixOp\n",
    "import time\n",
    "\n",
    "matrix_op = MatrixOp(matrix)\n",
    "\n",
    "vqe_inputs = {\n",
    "        'ansatz': realAmplitudes,\n",
    "        'operator': matrix_op,\n",
    "        'optimizer': COBYLA(max_iter=100, tol=0.00001),\n",
    "        'initial_point': np.random.random(realAmplitudes.num_parameters),\n",
    "        'measurement_error_mitigation': True,\n",
    "        'shots': 1024\n",
    "    }\n",
    "\n",
    "options = {\n",
    "        'backend_name': backend.name(),\n",
    "    }\n",
    "\n",
    "job = provider.runtime.run(program_id='vqe', inputs=vqe_inputs, options=options)\n",
    "while job.status() != JobStatus.RUNNING:\n",
    "    pass\n",
    "start = time.time()\n",
    "res = job.result()\n",
    "end = time.time()\n",
    "print(\"Runtime: \"+str(end-start))"
   ]
  },
  {
   "cell_type": "markdown",
   "id": "384395cf",
   "metadata": {},
   "source": [
    "Now, we check time on EfficientSU2"
   ]
  },
  {
   "cell_type": "code",
   "execution_count": 18,
   "id": "1660ba9a",
   "metadata": {},
   "outputs": [
    {
     "name": "stdout",
     "output_type": "stream",
     "text": [
      "Runtime: 911.7872893810272\n"
     ]
    }
   ],
   "source": [
    "from qiskit.algorithms.optimizers import COBYLA\n",
    "from qiskit.opflow.primitive_ops import MatrixOp\n",
    "import time\n",
    "\n",
    "matrix_op = MatrixOp(matrix)\n",
    "\n",
    "vqe_inputs = {\n",
    "        'ansatz': efficientSU2,\n",
    "        'operator': matrix_op,\n",
    "        'optimizer': COBYLA(max_iter=100, tol=0.00001),\n",
    "        'initial_point': np.random.random(efficientSU2.num_parameters),\n",
    "        'measurement_error_mitigation': True,\n",
    "        'shots': 1024\n",
    "    }\n",
    "\n",
    "options = {\n",
    "        'backend_name': backend.name(),\n",
    "    }\n",
    "\n",
    "job = provider.runtime.run(program_id='vqe', inputs=vqe_inputs, options=options)\n",
    "while job.status() != JobStatus.RUNNING:\n",
    "    pass\n",
    "start = time.time()\n",
    "res = job.result()\n",
    "end = time.time()\n",
    "print(\"Runtime: \"+str(end-start))"
   ]
  },
  {
   "cell_type": "markdown",
   "id": "05a2fa26",
   "metadata": {},
   "source": [
    "We notice an increase in runtime around 148.9%, showing a necessity of performing accurate selection of PQC in the execution of variational algorithms."
   ]
  },
  {
   "cell_type": "markdown",
   "id": "933c9af6",
   "metadata": {},
   "source": [
    "## Conclusion ##"
   ]
  },
  {
   "cell_type": "markdown",
   "id": "200c6b3f",
   "metadata": {},
   "source": [
    "We show how comparison of PQC is performed and show preliminary results of comparison. More detailed results, including also accuracy, are available on Zenodo [here](https://zenodo.org/record/6477732#.YmwEsFxBzmE)."
   ]
  },
  {
   "cell_type": "code",
   "execution_count": null,
   "id": "d9bfd82a",
   "metadata": {},
   "outputs": [],
   "source": []
  }
 ],
 "metadata": {
  "kernelspec": {
   "display_name": "Python 3 (ipykernel)",
   "language": "python",
   "name": "python3"
  },
  "language_info": {
   "codemirror_mode": {
    "name": "ipython",
    "version": 3
   },
   "file_extension": ".py",
   "mimetype": "text/x-python",
   "name": "python",
   "nbconvert_exporter": "python",
   "pygments_lexer": "ipython3",
   "version": "3.9.7"
  }
 },
 "nbformat": 4,
 "nbformat_minor": 5
}
